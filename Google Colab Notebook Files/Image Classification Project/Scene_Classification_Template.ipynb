{
  "nbformat": 4,
  "nbformat_minor": 0,
  "metadata": {
    "colab": {
      "name": "Scene_Classification_Template.ipynb",
      "provenance": [],
      "collapsed_sections": [],
      "toc_visible": true
    },
    "kernelspec": {
      "name": "python3",
      "display_name": "Python 3"
    },
    "language_info": {
      "name": "python"
    },
    "accelerator": "GPU"
  },
  "cells": [
    {
      "cell_type": "markdown",
      "source": [
        "##Author: Sidharth Ramanan\n",
        "###Date: 05/20/22"
      ],
      "metadata": {
        "id": "YlWGyupLXHYR"
      }
    },
    {
      "cell_type": "markdown",
      "source": [
        "\n",
        "**First, make a copy of this notebook for you to play around with.** `File -> Save a copy in Drive`\n",
        "\n",
        "**Second, make sure your Google Drive has been mounted. The option to do so is in the left menu**\n"
      ],
      "metadata": {
        "id": "-pJorXtP8-3K"
      }
    },
    {
      "cell_type": "markdown",
      "source": [
        "This is an image classification project from Kaggle (link [here](https://www.kaggle.com/datasets/puneet6060/intel-image-classification)) The goal is to classify different scenes of images (buildings, glaciers, mountains, etc)\n",
        "\n",
        "The first step would be to visit the Kaggle project and download the [`archive.zip`](https://www.kaggle.com/datasets/puneet6060/intel-image-classification/download) file containing the dataset of images\n",
        "\n",
        "Then, upload that file to the root level of your Google Drive and run the cell below to extract the zip file. This will create a folder called `scenes_dataset`\n",
        "Feel free to change the file paths below if you'd like.\n",
        "\n",
        "You should use [Tensorflow](https://www.tensorflow.org/api_docs) to complete this project - Tensorflow provides a Python API to create and train neural networks. You can also look at online Tensorflow tutorials for image classification if that would help, but try to understand what the code is doing/how to change it for your specific needs."
      ],
      "metadata": {
        "id": "hJkQKQJouU8X"
      }
    },
    {
      "cell_type": "markdown",
      "source": [
        "Some tips for the project:\n",
        "\n",
        "\n",
        "1.  There are only a few parts of the Tensorflow API that are worth focusing on - their model API, their layer API, optimizers, loss functions, callbacks, evaluation metrics and maybe some utils\n",
        "2.  You probably want to leverage Transfer Learning for the project - it would be challenging to construct your own CNN architecture for the project. \n",
        "3. Don't hesitate to make mistakes - playing around with the API and causing errors is the best way to understand how things work.\n",
        "4. Speaking of errors, Stack Overflow is your best friend if you're running into an issue you don't understand. Github Issues might also be helpful. Feel free to reach out to me as well\n",
        "5. Have fun and do your best! This is a zero stakes, zero pressure project and really just a bonus learning opportunity. Anything you can get out of this project, even if it's a little, is a win.\n",
        "\n"
      ],
      "metadata": {
        "id": "VCeYnW1ewd3q"
      }
    },
    {
      "cell_type": "code",
      "execution_count": null,
      "metadata": {
        "id": "xMzG3F8JcOmL"
      },
      "outputs": [],
      "source": [
        "import zipfile\n",
        "with zipfile.ZipFile('/content/drive/My Drive/archive.zip', 'r') as zip_ref:\n",
        "    zip_ref.extractall('/content/drive/My Drive/scenes_dataset')"
      ]
    },
    {
      "cell_type": "markdown",
      "source": [
        "Sometimes, Colab's environment doesn't have all the python packages you need. The easiest way is to `pip install` them like so:"
      ],
      "metadata": {
        "id": "m1kVi3KbyTF4"
      }
    },
    {
      "cell_type": "code",
      "source": [
        "!pip install livelossplot"
      ],
      "metadata": {
        "id": "z1GJQWS0d5IY"
      },
      "execution_count": null,
      "outputs": []
    },
    {
      "cell_type": "markdown",
      "source": [
        "In fact, you can run any normal UNIX style commands in Colab with this syntax:"
      ],
      "metadata": {
        "id": "_aKyhvWrydDi"
      }
    },
    {
      "cell_type": "code",
      "source": [
        "!ls -al"
      ],
      "metadata": {
        "id": "YNHa2EpPylZE"
      },
      "execution_count": null,
      "outputs": []
    },
    {
      "cell_type": "markdown",
      "source": [
        "I've included imports for some commonly used ML/DS python libraries below, along with some Tensorflow modules that you might find useful"
      ],
      "metadata": {
        "id": "0QHqs9Psy0Ho"
      }
    },
    {
      "cell_type": "code",
      "source": [
        "import pandas as pd\n",
        "import numpy as np\n",
        "import matplotlib.pyplot as plt\n",
        "import seaborn as sns\n",
        "import tensorflow as tf\n",
        "import os\n",
        "import pathlib\n",
        "import imageio\n",
        "import datetime\n",
        "import cv2\n",
        "import functools\n",
        "import math\n",
        "\n",
        "from tensorflow.keras.utils import to_categorical\n",
        "from tensorflow.keras.preprocessing.image import ImageDataGenerator\n",
        "import tensorflow.keras.utils as Utils\n",
        "import tensorflow.keras.models as Models\n",
        "from livelossplot import PlotLossesKeras"
      ],
      "metadata": {
        "id": "MkE4FqWCd6jj"
      },
      "execution_count": null,
      "outputs": []
    },
    {
      "cell_type": "markdown",
      "source": [
        "This is how you can check if you're using the GPU. Unless you upgrade your Colab plan, you won't benefit from faster training times with the GPU, but that's fine - the training times should still be manageable"
      ],
      "metadata": {
        "id": "DJE7zvJFziVs"
      }
    },
    {
      "cell_type": "code",
      "source": [
        "if tf.config.list_physical_devices('GPU'):\n",
        "  print(\"TensorFlow **IS** using the GPU\")\n",
        "else:\n",
        "  print(\"TensorFlow **IS NOT** using the GPU\")"
      ],
      "metadata": {
        "colab": {
          "base_uri": "https://localhost:8080/"
        },
        "id": "xAmUgHoid8DD",
        "outputId": "dac08d04-8460-4d47-e37f-fd5c8ae07021"
      },
      "execution_count": null,
      "outputs": [
        {
          "output_type": "stream",
          "name": "stdout",
          "text": [
            "TensorFlow **IS** using the GPU\n"
          ]
        }
      ]
    },
    {
      "cell_type": "markdown",
      "source": [
        "#Preparation"
      ],
      "metadata": {
        "id": "qd3hQgC88Ogp"
      }
    },
    {
      "cell_type": "code",
      "source": [
        "DATASET_FOLDER = f'/content/drive/My Drive/scenes_dataset'\n",
        "NUM_CLASSES = 6\n",
        "trainDir = f'{DATASET_FOLDER}/seg_train/seg_train'\n",
        "testDir = f'{DATASET_FOLDER}/seg_test/seg_test'\n",
        "bestModelPath = f'{DATASET_FOLDER}/best_model'"
      ],
      "metadata": {
        "id": "YscltNYod99M"
      },
      "execution_count": null,
      "outputs": []
    },
    {
      "cell_type": "code",
      "source": [
        "def plotRandomSet(N):\n",
        "  images = []\n",
        "  labels = []\n",
        "  for i in range(N * N):\n",
        "    label = np.random.choice(os.listdir(trainDir))\n",
        "    image_name = np.random.choice(os.listdir(trainDir + '/' + label))\n",
        "    image = cv2.imread(trainDir + '/' + label + '/' + image_name)\n",
        "    image = cv2.resize(image, (150, 150))\n",
        "    images.append(image)\n",
        "    labels.append(label)\n",
        "\n",
        "  fig, ax = plt.subplots(N, N)\n",
        "  plt.subplots_adjust(left=0.5, bottom=0.5, right=1, top=1, wspace=0.9,hspace=0.9)\n",
        "  fig.subplots_adjust(0,0,3,3)\n",
        "\n",
        "  for i in range(0,N,1):\n",
        "      for j in range(0,N,1):\n",
        "          ax[i,j].imshow(images[i*N + j])\n",
        "          ax[i,j].set_title(labels[i*N + j])\n",
        "          ax[i,j].axis('off')\n",
        "  \n",
        "plotRandomSet(5)"
      ],
      "metadata": {
        "id": "XkYfe8qio3jN"
      },
      "execution_count": null,
      "outputs": []
    },
    {
      "cell_type": "markdown",
      "source": [
        "Here would be a useful place to define Tensorflow callbacks - callbacks are useful functions that run at the end of every epoch during training. Explore the Tensorflow API to find some useful callbacks. An example callback is the liveloss callback which plots the loss and accuracy as training occurs. "
      ],
      "metadata": {
        "id": "cjD5VY2wzz5D"
      }
    },
    {
      "cell_type": "code",
      "source": [
        "#Define any Tensorflow callbacks here. Remember to include the Tensorboard callback, it will be useful later"
      ],
      "metadata": {
        "id": "ShSSInc-d_Xg"
      },
      "execution_count": null,
      "outputs": []
    },
    {
      "cell_type": "markdown",
      "source": [
        "#Loading in the dataset"
      ],
      "metadata": {
        "id": "7_uu-lor8UPF"
      }
    },
    {
      "cell_type": "markdown",
      "source": [
        "Your next step should be figuring out a strategy to load the dataset into Colab for training. I would recommend looking at Tensorflow's `ImageDataGenerator` and its `flow_from_directory` method. Generators are a general Python concept that refers to computation on-demand and in this context that principle applies - image generators allow images to be loaded on-demand and only when they're needed instead of loading the entire dataset into Colab at once. "
      ],
      "metadata": {
        "id": "6ufvdAFA0bT-"
      }
    },
    {
      "cell_type": "code",
      "source": [
        "#Instantiate the image generators for the training and test directories here and call flow_from_directory"
      ],
      "metadata": {
        "id": "deBMkhLaeAej"
      },
      "execution_count": null,
      "outputs": []
    },
    {
      "cell_type": "markdown",
      "source": [
        "#Modeling"
      ],
      "metadata": {
        "id": "lvkG_rr38XUO"
      }
    },
    {
      "cell_type": "markdown",
      "source": [
        "Next, you should work on building your model. Tensorflow has many available CNN architectures you can use in a transfer learning setting - explore how you can implement a transfer learning model for this data problem\n",
        "\n",
        "An important thing to remember in building models with Tensorflow layers in managing input and output shapes. As you're passing Tensors (the Tensorflow data structure) between layers, you need to make sure the shapes of those tensors are compatible with what the layer is expecting"
      ],
      "metadata": {
        "id": "Eexe7X4G1ZO1"
      }
    },
    {
      "cell_type": "code",
      "source": [
        "#Build, compile, and train your Keras model here"
      ],
      "metadata": {
        "id": "XLfUIHBfeA_A"
      },
      "execution_count": null,
      "outputs": []
    },
    {
      "cell_type": "markdown",
      "source": [
        "#Evaluation"
      ],
      "metadata": {
        "id": "bqAxA2y38aLH"
      }
    },
    {
      "cell_type": "markdown",
      "source": [
        "One thing you might want to understand once your model is trained is the pattern of mistakes it's making. Does it frequently confuse some specific classes? The best way to understand this is using confusion matrices. \n",
        "\n",
        "This might be helpful in understanding, say, what preprocessing operations you can perform on the images to accentuate/emphasize the differences between the classes the model is confusing, though this is pretty advanced model debugging. Nevertheless, it's insightful to plot confusion matrices. "
      ],
      "metadata": {
        "id": "FHs6BSJm2Pqx"
      }
    },
    {
      "cell_type": "markdown",
      "source": [
        "You may need to change variable names here - I assume that your generator for the test folder is called `test_generator`"
      ],
      "metadata": {
        "id": "tVcIK4RLWeNR"
      }
    },
    {
      "cell_type": "code",
      "source": [
        "from sklearn.metrics import ConfusionMatrixDisplay\n",
        "from sklearn.metrics import confusion_matrix\n",
        "\n",
        "y_pred = model1.predict(test_generator).argmax(axis=-1) \n",
        "y_test = test_generator.classes\n",
        "labels = test_generator.class_indices.keys()\n",
        "\n",
        "cm = confusion_matrix(y_test, y_pred)\n",
        "\n",
        "disp = ConfusionMatrixDisplay(confusion_matrix=cm, display_labels=labels)\n",
        "\n",
        "disp.plot(cmap=plt.cm.Blues)\n",
        "plt.show()"
      ],
      "metadata": {
        "id": "-V3J8X3hItoF"
      },
      "execution_count": null,
      "outputs": []
    },
    {
      "cell_type": "markdown",
      "source": [
        "Another useful tool to get familiar with is TensorBoard, which is an extension that allows you to really dive into the nitty-gritties of your trained model - understanding the architecture, weights, visualizing graphs, etc\n",
        "\n",
        "I encourage you to explore using TensorBoard, even if it doesn't directly lead to model improvements. You'll find it handy in the future.\n",
        "\n",
        "Run the following cells - this should open up Tensorboard with a dashboard to understand your trained model\n",
        "\n",
        "Remember to also use the tensorboard callback when you build your model"
      ],
      "metadata": {
        "id": "NPZ3UkgG25iK"
      }
    },
    {
      "cell_type": "code",
      "source": [
        "%load_ext tensorboard"
      ],
      "metadata": {
        "id": "LfYu7kAH4-rU"
      },
      "execution_count": null,
      "outputs": []
    },
    {
      "cell_type": "code",
      "source": [
        "%tensorboard --logdir logs"
      ],
      "metadata": {
        "id": "60_z9ZoI5Se_"
      },
      "execution_count": null,
      "outputs": []
    },
    {
      "cell_type": "markdown",
      "source": [
        "#Saving your work"
      ],
      "metadata": {
        "id": "j3ux3Gox8c00"
      }
    },
    {
      "cell_type": "markdown",
      "source": [
        "Here are some utility functions for Tensorflow models that will alow you to visualize and save your models."
      ],
      "metadata": {
        "id": "7P0C9uRZ0SOD"
      }
    },
    {
      "cell_type": "code",
      "source": [
        "def plotModel(model):\n",
        "  Utils.plot_model(model,to_file=f'{DATASET_FOLDER}/model.png',show_shapes=True)\n",
        "\n",
        "def saveModel(model):\n",
        "  model.save(f'{DATASET_FOLDER}/model.h5')\n",
        "\n",
        "def loadModel(modelPath):\n",
        "  model = Models.load_model(modelPath)\n",
        "  return model"
      ],
      "metadata": {
        "id": "0QTfX1PVrdVj"
      },
      "execution_count": null,
      "outputs": []
    },
    {
      "cell_type": "markdown",
      "source": [
        "For this project, try to get a model that crosses an accuracy of 80% on the test set - that would signify pretty solid work! Reach out to me if you have any questions and need help"
      ],
      "metadata": {
        "id": "BRGkBIqu4xmS"
      }
    }
  ]
}